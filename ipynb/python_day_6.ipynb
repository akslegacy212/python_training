{
 "cells":[
  {
   "cell_type":"code",
   "source":[
    "import pandas as pd\n",
    "import numpy as np"
   ],
   "execution_count":5,
   "outputs":[
    
   ],
   "metadata":{
    "datalore":{
     "node_id":"gQClZxRCM1qvIxHFjpdKGn",
     "type":"CODE",
     "hide_input_from_viewers":false,
     "hide_output_from_viewers":false
    }
   }
  },
  {
   "cell_type":"code",
   "source":[
    "mock_data = pd.read_csv('MOCK_DATA.csv')"
   ],
   "execution_count":7,
   "outputs":[
    
   ],
   "metadata":{
    "datalore":{
     "node_id":"KOF6JwAnYCZGYKlVQvKGSM",
     "type":"CODE",
     "hide_input_from_viewers":false,
     "hide_output_from_viewers":false
    }
   }
  },
  {
   "cell_type":"code",
   "source":[
    "mock_data.head()"
   ],
   "execution_count":8,
   "outputs":[
    {
     "data":{
      "text\/html":[
       "<div>\n",
       "<style scoped>\n",
       "    .dataframe tbody tr th:only-of-type {\n",
       "        vertical-align: middle;\n",
       "    }\n",
       "\n",
       "    .dataframe tbody tr th {\n",
       "        vertical-align: top;\n",
       "    }\n",
       "\n",
       "    .dataframe thead th {\n",
       "        text-align: right;\n",
       "    }\n",
       "<\/style>\n",
       "<table border=\"1\" class=\"dataframe\">\n",
       "  <thead>\n",
       "    <tr style=\"text-align: right;\">\n",
       "      <th><\/th>\n",
       "      <th>name<\/th>\n",
       "      <th>usn<\/th>\n",
       "      <th>attendence<\/th>\n",
       "    <\/tr>\n",
       "  <\/thead>\n",
       "  <tbody>\n",
       "    <tr>\n",
       "      <th>0<\/th>\n",
       "      <td>Porty<\/td>\n",
       "      <td>40<\/td>\n",
       "      <td>90<\/td>\n",
       "    <\/tr>\n",
       "    <tr>\n",
       "      <th>1<\/th>\n",
       "      <td>Wolf<\/td>\n",
       "      <td>36<\/td>\n",
       "      <td>94<\/td>\n",
       "    <\/tr>\n",
       "    <tr>\n",
       "      <th>2<\/th>\n",
       "      <td>Craig<\/td>\n",
       "      <td>98<\/td>\n",
       "      <td>13<\/td>\n",
       "    <\/tr>\n",
       "    <tr>\n",
       "      <th>3<\/th>\n",
       "      <td>Royal<\/td>\n",
       "      <td>75<\/td>\n",
       "      <td>52<\/td>\n",
       "    <\/tr>\n",
       "    <tr>\n",
       "      <th>4<\/th>\n",
       "      <td>Obed<\/td>\n",
       "      <td>24<\/td>\n",
       "      <td>15<\/td>\n",
       "    <\/tr>\n",
       "  <\/tbody>\n",
       "<\/table>\n",
       "<\/div>"
      ]
     },
     "metadata":{
      
     },
     "output_type":"display_data"
    }
   ],
   "metadata":{
    "datalore":{
     "node_id":"oYBroLB2V8qmcCZtnB7l5j",
     "type":"CODE",
     "hide_input_from_viewers":false,
     "hide_output_from_viewers":false
    }
   }
  },
  {
   "cell_type":"code",
   "source":[
    "mock_data[\"usn\"][mock_data[\"usn\"] % 2 ==0]=np.NAN"
   ],
   "execution_count":26,
   "outputs":[
    {
     "name":"stderr",
     "text":[
      "<ipython-input-26-e6c36285ff34>:1: SettingWithCopyWarning: \n",
      "A value is trying to be set on a copy of a slice from a DataFrame\n",
      "\n",
      "See the caveats in the documentation: https:\/\/pandas.pydata.org\/pandas-docs\/stable\/user_guide\/indexing.html#returning-a-view-versus-a-copy\n",
      "  mock_data[\"usn\"][mock_data[\"usn\"] % 2 ==0]=np.NAN\n"
     ],
     "output_type":"stream"
    }
   ],
   "metadata":{
    "datalore":{
     "node_id":"Ht7Z0uDHJXQaSRykhfEPsG",
     "type":"CODE",
     "hide_input_from_viewers":false,
     "hide_output_from_viewers":false
    }
   }
  },
  {
   "cell_type":"code",
   "source":[
    "mock_data.head()"
   ],
   "execution_count":27,
   "outputs":[
    {
     "data":{
      "text\/html":[
       "<div>\n",
       "<style scoped>\n",
       "    .dataframe tbody tr th:only-of-type {\n",
       "        vertical-align: middle;\n",
       "    }\n",
       "\n",
       "    .dataframe tbody tr th {\n",
       "        vertical-align: top;\n",
       "    }\n",
       "\n",
       "    .dataframe thead th {\n",
       "        text-align: right;\n",
       "    }\n",
       "<\/style>\n",
       "<table border=\"1\" class=\"dataframe\">\n",
       "  <thead>\n",
       "    <tr style=\"text-align: right;\">\n",
       "      <th><\/th>\n",
       "      <th>name<\/th>\n",
       "      <th>usn<\/th>\n",
       "      <th>attendence<\/th>\n",
       "    <\/tr>\n",
       "  <\/thead>\n",
       "  <tbody>\n",
       "    <tr>\n",
       "      <th>0<\/th>\n",
       "      <td>NaN<\/td>\n",
       "      <td>NaN<\/td>\n",
       "      <td>NaN<\/td>\n",
       "    <\/tr>\n",
       "    <tr>\n",
       "      <th>1<\/th>\n",
       "      <td>NaN<\/td>\n",
       "      <td>NaN<\/td>\n",
       "      <td>NaN<\/td>\n",
       "    <\/tr>\n",
       "    <tr>\n",
       "      <th>2<\/th>\n",
       "      <td>NaN<\/td>\n",
       "      <td>NaN<\/td>\n",
       "      <td>NaN<\/td>\n",
       "    <\/tr>\n",
       "    <tr>\n",
       "      <th>3<\/th>\n",
       "      <td>Royal<\/td>\n",
       "      <td>75.0<\/td>\n",
       "      <td>52.0<\/td>\n",
       "    <\/tr>\n",
       "    <tr>\n",
       "      <th>4<\/th>\n",
       "      <td>NaN<\/td>\n",
       "      <td>NaN<\/td>\n",
       "      <td>NaN<\/td>\n",
       "    <\/tr>\n",
       "  <\/tbody>\n",
       "<\/table>\n",
       "<\/div>"
      ]
     },
     "metadata":{
      
     },
     "output_type":"display_data"
    }
   ],
   "metadata":{
    "datalore":{
     "node_id":"tirdbNfJtgEiRafXGOd2jr",
     "type":"CODE",
     "hide_input_from_viewers":false,
     "hide_output_from_viewers":false
    }
   }
  },
  {
   "cell_type":"code",
   "source":[
    "drug_data = pd.read_csv('drug.csv')"
   ],
   "execution_count":28,
   "outputs":[
    
   ],
   "metadata":{
    "datalore":{
     "node_id":"3jgfK626VuwtBdvISAknyd",
     "type":"CODE",
     "hide_input_from_viewers":false,
     "hide_output_from_viewers":false
    }
   }
  },
  {
   "cell_type":"code",
   "source":[
    "drug_data.head()"
   ],
   "execution_count":30,
   "outputs":[
    {
     "data":{
      "text\/html":[
       "<div>\n",
       "<style scoped>\n",
       "    .dataframe tbody tr th:only-of-type {\n",
       "        vertical-align: middle;\n",
       "    }\n",
       "\n",
       "    .dataframe tbody tr th {\n",
       "        vertical-align: top;\n",
       "    }\n",
       "\n",
       "    .dataframe thead th {\n",
       "        text-align: right;\n",
       "    }\n",
       "<\/style>\n",
       "<table border=\"1\" class=\"dataframe\">\n",
       "  <thead>\n",
       "    <tr style=\"text-align: right;\">\n",
       "      <th><\/th>\n",
       "      <th>Drug Name<\/th>\n",
       "      <th>Country<\/th>\n",
       "      <th>Average Consumption<\/th>\n",
       "    <\/tr>\n",
       "  <\/thead>\n",
       "  <tbody>\n",
       "    <tr>\n",
       "      <th>0<\/th>\n",
       "      <td>Hydrocodone Bitartrate and Ibuprofen<\/td>\n",
       "      <td>China<\/td>\n",
       "      <td>21.706<\/td>\n",
       "    <\/tr>\n",
       "    <tr>\n",
       "      <th>1<\/th>\n",
       "      <td>Fluconazole<\/td>\n",
       "      <td>Zimbabwe<\/td>\n",
       "      <td>21.564<\/td>\n",
       "    <\/tr>\n",
       "    <tr>\n",
       "      <th>2<\/th>\n",
       "      <td>hemorrhoidal cooling<\/td>\n",
       "      <td>Brazil<\/td>\n",
       "      <td>55.744<\/td>\n",
       "    <\/tr>\n",
       "    <tr>\n",
       "      <th>3<\/th>\n",
       "      <td>Thyme<\/td>\n",
       "      <td>Philippines<\/td>\n",
       "      <td>20.962<\/td>\n",
       "    <\/tr>\n",
       "    <tr>\n",
       "      <th>4<\/th>\n",
       "      <td>Fentanyl<\/td>\n",
       "      <td>Nepal<\/td>\n",
       "      <td>90.059<\/td>\n",
       "    <\/tr>\n",
       "  <\/tbody>\n",
       "<\/table>\n",
       "<\/div>"
      ]
     },
     "metadata":{
      
     },
     "output_type":"display_data"
    }
   ],
   "metadata":{
    "datalore":{
     "node_id":"vh2TYIbmxjM7EnGIwtzLDo",
     "type":"CODE",
     "hide_input_from_viewers":false,
     "hide_output_from_viewers":false
    }
   }
  },
  {
   "cell_type":"code",
   "source":[
    "drug_data_brazil = drug_data[drug_data[\"Country\"]==\"Brazil\"]"
   ],
   "execution_count":46,
   "outputs":[
    
   ],
   "metadata":{
    "datalore":{
     "node_id":"dp2PLc7ZuVKgcS1eKx6ba3",
     "type":"CODE",
     "hide_input_from_viewers":false,
     "hide_output_from_viewers":false
    }
   }
  },
  {
   "cell_type":"code",
   "source":[
    "drug_data_brazil.drop(\"Country\",axis=1,inplace=True)"
   ],
   "execution_count":49,
   "outputs":[
    {
     "name":"stderr",
     "text":[
      "\/opt\/python\/envs\/default\/lib\/python3.8\/site-packages\/pandas\/core\/frame.py:4906: SettingWithCopyWarning: \n",
      "A value is trying to be set on a copy of a slice from a DataFrame\n",
      "\n",
      "See the caveats in the documentation: https:\/\/pandas.pydata.org\/pandas-docs\/stable\/user_guide\/indexing.html#returning-a-view-versus-a-copy\n",
      "  return super().drop(\n"
     ],
     "output_type":"stream"
    }
   ],
   "metadata":{
    "datalore":{
     "node_id":"gvEDhLbwnCj6otd3EtsDja",
     "type":"CODE",
     "hide_input_from_viewers":false,
     "hide_output_from_viewers":false
    }
   }
  },
  {
   "cell_type":"code",
   "source":[
    "drug_data_brazil.reset_index(drop=True,inplace=True)"
   ],
   "execution_count":50,
   "outputs":[
    
   ],
   "metadata":{
    "datalore":{
     "node_id":"ECOGEMA7HF6KUlp9DIjObA",
     "type":"CODE",
     "hide_input_from_viewers":false,
     "hide_output_from_viewers":false
    }
   }
  },
  {
   "cell_type":"code",
   "source":[
    "drug_data_brazil"
   ],
   "execution_count":53,
   "outputs":[
    {
     "data":{
      "text\/html":[
       "<div>\n",
       "<style scoped>\n",
       "    .dataframe tbody tr th:only-of-type {\n",
       "        vertical-align: middle;\n",
       "    }\n",
       "\n",
       "    .dataframe tbody tr th {\n",
       "        vertical-align: top;\n",
       "    }\n",
       "\n",
       "    .dataframe thead th {\n",
       "        text-align: right;\n",
       "    }\n",
       "<\/style>\n",
       "<table border=\"1\" class=\"dataframe\">\n",
       "  <thead>\n",
       "    <tr style=\"text-align: right;\">\n",
       "      <th><\/th>\n",
       "      <th>Drug Name<\/th>\n",
       "      <th>Average Consumption<\/th>\n",
       "    <\/tr>\n",
       "  <\/thead>\n",
       "  <tbody>\n",
       "    <tr>\n",
       "      <th>0<\/th>\n",
       "      <td>hemorrhoidal cooling<\/td>\n",
       "      <td>55.744<\/td>\n",
       "    <\/tr>\n",
       "    <tr>\n",
       "      <th>1<\/th>\n",
       "      <td>ReCreate Foundation<\/td>\n",
       "      <td>18.154<\/td>\n",
       "    <\/tr>\n",
       "    <tr>\n",
       "      <th>2<\/th>\n",
       "      <td>health mart nose<\/td>\n",
       "      <td>36.884<\/td>\n",
       "    <\/tr>\n",
       "    <tr>\n",
       "      <th>3<\/th>\n",
       "      <td>Hydrocodone Bitartrate and Acetaminophen<\/td>\n",
       "      <td>9.521<\/td>\n",
       "    <\/tr>\n",
       "    <tr>\n",
       "      <th>4<\/th>\n",
       "      <td>RANITIDINE<\/td>\n",
       "      <td>43.076<\/td>\n",
       "    <\/tr>\n",
       "    <tr>\n",
       "      <th>5<\/th>\n",
       "      <td>Metalogin<\/td>\n",
       "      <td>75.222<\/td>\n",
       "    <\/tr>\n",
       "    <tr>\n",
       "      <th>6<\/th>\n",
       "      <td>Ganirelix Acetate<\/td>\n",
       "      <td>53.169<\/td>\n",
       "    <\/tr>\n",
       "    <tr>\n",
       "      <th>7<\/th>\n",
       "      <td>Clario Foaming Alcohol Instant Hand Sanitizer<\/td>\n",
       "      <td>80.626<\/td>\n",
       "    <\/tr>\n",
       "    <tr>\n",
       "      <th>8<\/th>\n",
       "      <td>Celox Antiseptic<\/td>\n",
       "      <td>5.125<\/td>\n",
       "    <\/tr>\n",
       "    <tr>\n",
       "      <th>9<\/th>\n",
       "      <td>Broad Spectrum SPF 70 Sunscreen<\/td>\n",
       "      <td>26.605<\/td>\n",
       "    <\/tr>\n",
       "    <tr>\n",
       "      <th>10<\/th>\n",
       "      <td>Flawless Finish Dual Perfection Makeup SPF 8 C...<\/td>\n",
       "      <td>90.250<\/td>\n",
       "    <\/tr>\n",
       "    <tr>\n",
       "      <th>11<\/th>\n",
       "      <td>DIVALPROEX SODIUM<\/td>\n",
       "      <td>11.818<\/td>\n",
       "    <\/tr>\n",
       "    <tr>\n",
       "      <th>12<\/th>\n",
       "      <td>Hydrogen Peroxide<\/td>\n",
       "      <td>30.876<\/td>\n",
       "    <\/tr>\n",
       "    <tr>\n",
       "      <th>13<\/th>\n",
       "      <td>Diclofenac Sodium and Misoprostol<\/td>\n",
       "      <td>69.061<\/td>\n",
       "    <\/tr>\n",
       "    <tr>\n",
       "      <th>14<\/th>\n",
       "      <td>Xylocaine<\/td>\n",
       "      <td>73.414<\/td>\n",
       "    <\/tr>\n",
       "    <tr>\n",
       "      <th>15<\/th>\n",
       "      <td>L OCCITANE IMMORTELLE BRIGHTENING HAND CARE BR...<\/td>\n",
       "      <td>63.663<\/td>\n",
       "    <\/tr>\n",
       "    <tr>\n",
       "      <th>16<\/th>\n",
       "      <td>Warfarin Sodium<\/td>\n",
       "      <td>7.211<\/td>\n",
       "    <\/tr>\n",
       "    <tr>\n",
       "      <th>17<\/th>\n",
       "      <td>ESIKA HYDRACOLOR 2 IN 1 HIGHLY MOISTURIZING AN...<\/td>\n",
       "      <td>22.858<\/td>\n",
       "    <\/tr>\n",
       "    <tr>\n",
       "      <th>18<\/th>\n",
       "      <td>Papaya Mango Antibacterial Hand<\/td>\n",
       "      <td>51.110<\/td>\n",
       "    <\/tr>\n",
       "    <tr>\n",
       "      <th>19<\/th>\n",
       "      <td>Lisinopril with Hydrochlorothiazide<\/td>\n",
       "      <td>57.536<\/td>\n",
       "    <\/tr>\n",
       "    <tr>\n",
       "      <th>20<\/th>\n",
       "      <td>Genlabs Strike Bac Antibacterial Handsoap<\/td>\n",
       "      <td>28.066<\/td>\n",
       "    <\/tr>\n",
       "    <tr>\n",
       "      <th>21<\/th>\n",
       "      <td>CardinalHealth alcohol prep pads MEDIUM<\/td>\n",
       "      <td>93.468<\/td>\n",
       "    <\/tr>\n",
       "    <tr>\n",
       "      <th>22<\/th>\n",
       "      <td>GONAL-F RFF<\/td>\n",
       "      <td>58.537<\/td>\n",
       "    <\/tr>\n",
       "    <tr>\n",
       "      <th>23<\/th>\n",
       "      <td>Prochlorperazine<\/td>\n",
       "      <td>31.075<\/td>\n",
       "    <\/tr>\n",
       "    <tr>\n",
       "      <th>24<\/th>\n",
       "      <td>Ibuprofen<\/td>\n",
       "      <td>61.754<\/td>\n",
       "    <\/tr>\n",
       "    <tr>\n",
       "      <th>25<\/th>\n",
       "      <td>Prandin<\/td>\n",
       "      <td>61.040<\/td>\n",
       "    <\/tr>\n",
       "    <tr>\n",
       "      <th>26<\/th>\n",
       "      <td>Terrasil S.O.S. Formula<\/td>\n",
       "      <td>91.216<\/td>\n",
       "    <\/tr>\n",
       "    <tr>\n",
       "      <th>27<\/th>\n",
       "      <td>TYLENOL COLD MULTI-SYMPTOM DAYTIME<\/td>\n",
       "      <td>30.889<\/td>\n",
       "    <\/tr>\n",
       "    <tr>\n",
       "      <th>28<\/th>\n",
       "      <td>Antacid<\/td>\n",
       "      <td>34.018<\/td>\n",
       "    <\/tr>\n",
       "    <tr>\n",
       "      <th>29<\/th>\n",
       "      <td>SAFEWAY NICOTINE TRANSDERMAL SYSTEM<\/td>\n",
       "      <td>74.056<\/td>\n",
       "    <\/tr>\n",
       "    <tr>\n",
       "      <th>30<\/th>\n",
       "      <td>Fludeoxyglucose F 18<\/td>\n",
       "      <td>73.685<\/td>\n",
       "    <\/tr>\n",
       "    <tr>\n",
       "      <th>31<\/th>\n",
       "      <td>Triamterene and Hydrochlorothiazide<\/td>\n",
       "      <td>89.476<\/td>\n",
       "    <\/tr>\n",
       "    <tr>\n",
       "      <th>32<\/th>\n",
       "      <td>Midazolam<\/td>\n",
       "      <td>95.842<\/td>\n",
       "    <\/tr>\n",
       "    <tr>\n",
       "      <th>33<\/th>\n",
       "      <td>Medroxyprogesterone Acetate<\/td>\n",
       "      <td>80.110<\/td>\n",
       "    <\/tr>\n",
       "    <tr>\n",
       "      <th>34<\/th>\n",
       "      <td>Pain-A-Trate<\/td>\n",
       "      <td>11.500<\/td>\n",
       "    <\/tr>\n",
       "    <tr>\n",
       "      <th>35<\/th>\n",
       "      <td>Rocky Mountain Sunscreen<\/td>\n",
       "      <td>86.942<\/td>\n",
       "    <\/tr>\n",
       "    <tr>\n",
       "      <th>36<\/th>\n",
       "      <td>Carduus marianus e fruct. 6 Special Order<\/td>\n",
       "      <td>40.693<\/td>\n",
       "    <\/tr>\n",
       "    <tr>\n",
       "      <th>37<\/th>\n",
       "      <td>Heparin Sodium<\/td>\n",
       "      <td>75.390<\/td>\n",
       "    <\/tr>\n",
       "    <tr>\n",
       "      <th>38<\/th>\n",
       "      <td>Speed Stick<\/td>\n",
       "      <td>58.270<\/td>\n",
       "    <\/tr>\n",
       "    <tr>\n",
       "      <th>39<\/th>\n",
       "      <td>Baclofen<\/td>\n",
       "      <td>96.827<\/td>\n",
       "    <\/tr>\n",
       "    <tr>\n",
       "      <th>40<\/th>\n",
       "      <td>HYDROCORTISONE<\/td>\n",
       "      <td>46.676<\/td>\n",
       "    <\/tr>\n",
       "    <tr>\n",
       "      <th>41<\/th>\n",
       "      <td>Head Remedy Dandruff Conditioner<\/td>\n",
       "      <td>77.207<\/td>\n",
       "    <\/tr>\n",
       "    <tr>\n",
       "      <th>42<\/th>\n",
       "      <td>Trospium Chloride<\/td>\n",
       "      <td>56.425<\/td>\n",
       "    <\/tr>\n",
       "    <tr>\n",
       "      <th>43<\/th>\n",
       "      <td>ACTIFIRM RECOVERY<\/td>\n",
       "      <td>23.375<\/td>\n",
       "    <\/tr>\n",
       "    <tr>\n",
       "      <th>44<\/th>\n",
       "      <td>Donepezil Hydrochloride<\/td>\n",
       "      <td>76.856<\/td>\n",
       "    <\/tr>\n",
       "    <tr>\n",
       "      <th>45<\/th>\n",
       "      <td>Iris Antimicrobial Hand<\/td>\n",
       "      <td>95.315<\/td>\n",
       "    <\/tr>\n",
       "  <\/tbody>\n",
       "<\/table>\n",
       "<\/div>"
      ]
     },
     "metadata":{
      
     },
     "output_type":"display_data"
    }
   ],
   "metadata":{
    "datalore":{
     "node_id":"dX5R9vPxLqraYbWNg3pNKk",
     "type":"CODE",
     "hide_input_from_viewers":false,
     "hide_output_from_viewers":false
    }
   }
  },
  {
   "cell_type":"code",
   "source":[
    "drug_data_india = drug_data[drug_data[\"Country\"]==\"India\"]"
   ],
   "execution_count":54,
   "outputs":[
    
   ],
   "metadata":{
    "datalore":{
     "node_id":"VHwFyGu6dlXv4E9kPSDS50",
     "type":"CODE",
     "hide_input_from_viewers":false,
     "hide_output_from_viewers":false
    }
   }
  },
  {
   "cell_type":"code",
   "source":[
    "drug_data_india.drop(\"Country\",axis=1,inplace=True)"
   ],
   "execution_count":55,
   "outputs":[
    {
     "name":"stderr",
     "text":[
      "\/opt\/python\/envs\/default\/lib\/python3.8\/site-packages\/pandas\/core\/frame.py:4906: SettingWithCopyWarning: \n",
      "A value is trying to be set on a copy of a slice from a DataFrame\n",
      "\n",
      "See the caveats in the documentation: https:\/\/pandas.pydata.org\/pandas-docs\/stable\/user_guide\/indexing.html#returning-a-view-versus-a-copy\n",
      "  return super().drop(\n"
     ],
     "output_type":"stream"
    }
   ],
   "metadata":{
    "datalore":{
     "node_id":"HPn9bycj2LWmyuwvZpIfe7",
     "type":"CODE",
     "hide_input_from_viewers":false,
     "hide_output_from_viewers":false
    }
   }
  },
  {
   "cell_type":"code",
   "source":[
    "drug_data_india.reset_index(drop=True,inplace=True)"
   ],
   "execution_count":56,
   "outputs":[
    
   ],
   "metadata":{
    "datalore":{
     "node_id":"HB7HtNcixkriCi4nfG4XjA",
     "type":"CODE",
     "hide_input_from_viewers":false,
     "hide_output_from_viewers":false
    }
   }
  },
  {
   "cell_type":"code",
   "source":[
    "drug_data_india"
   ],
   "execution_count":57,
   "outputs":[
    {
     "data":{
      "text\/html":[
       "<div>\n",
       "<style scoped>\n",
       "    .dataframe tbody tr th:only-of-type {\n",
       "        vertical-align: middle;\n",
       "    }\n",
       "\n",
       "    .dataframe tbody tr th {\n",
       "        vertical-align: top;\n",
       "    }\n",
       "\n",
       "    .dataframe thead th {\n",
       "        text-align: right;\n",
       "    }\n",
       "<\/style>\n",
       "<table border=\"1\" class=\"dataframe\">\n",
       "  <thead>\n",
       "    <tr style=\"text-align: right;\">\n",
       "      <th><\/th>\n",
       "      <th>Drug Name<\/th>\n",
       "      <th>Average Consumption<\/th>\n",
       "    <\/tr>\n",
       "  <\/thead>\n",
       "  <tbody>\n",
       "  <\/tbody>\n",
       "<\/table>\n",
       "<\/div>"
      ]
     },
     "metadata":{
      
     },
     "output_type":"display_data"
    }
   ],
   "metadata":{
    "datalore":{
     "node_id":"Zjb5QvXiDmQnxAokqjU7lD",
     "type":"CODE",
     "hide_input_from_viewers":false,
     "hide_output_from_viewers":false
    }
   }
  },
  {
   "cell_type":"code",
   "source":[
    "drug_data_nepal = drug_data[drug_data[\"Country\"]==\"Nepal\"]"
   ],
   "execution_count":62,
   "outputs":[
    
   ],
   "metadata":{
    "datalore":{
     "node_id":"sIg2kgaZNZ5xddOtma4KQZ",
     "type":"CODE",
     "hide_input_from_viewers":false,
     "hide_output_from_viewers":false
    }
   }
  },
  {
   "cell_type":"code",
   "source":[
    "drug_data_nepal.drop(\"Country\",axis=1,inplace=True)"
   ],
   "execution_count":63,
   "outputs":[
    {
     "name":"stderr",
     "text":[
      "\/opt\/python\/envs\/default\/lib\/python3.8\/site-packages\/pandas\/core\/frame.py:4906: SettingWithCopyWarning: \n",
      "A value is trying to be set on a copy of a slice from a DataFrame\n",
      "\n",
      "See the caveats in the documentation: https:\/\/pandas.pydata.org\/pandas-docs\/stable\/user_guide\/indexing.html#returning-a-view-versus-a-copy\n",
      "  return super().drop(\n"
     ],
     "output_type":"stream"
    }
   ],
   "metadata":{
    "datalore":{
     "node_id":"f8qtxfY3ozpROQFCoeUVRr",
     "type":"CODE",
     "hide_input_from_viewers":false,
     "hide_output_from_viewers":false
    }
   }
  },
  {
   "cell_type":"code",
   "source":[
    "drug_data_nepal.reset_index(drop=True,inplace=True)"
   ],
   "execution_count":64,
   "outputs":[
    
   ],
   "metadata":{
    "datalore":{
     "node_id":"E4XcpOIMO3ZZCuATeiHXbZ",
     "type":"CODE",
     "hide_input_from_viewers":false,
     "hide_output_from_viewers":false
    }
   }
  },
  {
   "cell_type":"code",
   "source":[
    "drug_data_nepal"
   ],
   "execution_count":69,
   "outputs":[
    {
     "data":{
      "text\/plain":[
       "pandas.core.frame.DataFrame"
      ]
     },
     "metadata":{
      
     },
     "output_type":"display_data"
    }
   ],
   "metadata":{
    "datalore":{
     "node_id":"2MJPubRBqHkOrGsUBWWGba",
     "type":"CODE",
     "hide_input_from_viewers":false,
     "hide_output_from_viewers":false
    }
   }
  },
  {
   "cell_type":"code",
   "source":[
    "country_data = drug_data.groupby([\"Country\",\"Drug Name\"],group_keys=True)"
   ],
   "execution_count":67,
   "outputs":[
    
   ],
   "metadata":{
    "datalore":{
     "node_id":"XEabqWxVSBu2WKYYLP6JXs",
     "type":"CODE",
     "hide_input_from_viewers":false,
     "hide_output_from_viewers":false
    }
   }
  },
  {
   "cell_type":"code",
   "source":[
    "country_data.first()"
   ],
   "execution_count":68,
   "outputs":[
    {
     "data":{
      "text\/html":[
       "<div>\n",
       "<style scoped>\n",
       "    .dataframe tbody tr th:only-of-type {\n",
       "        vertical-align: middle;\n",
       "    }\n",
       "\n",
       "    .dataframe tbody tr th {\n",
       "        vertical-align: top;\n",
       "    }\n",
       "\n",
       "    .dataframe thead th {\n",
       "        text-align: right;\n",
       "    }\n",
       "<\/style>\n",
       "<table border=\"1\" class=\"dataframe\">\n",
       "  <thead>\n",
       "    <tr style=\"text-align: right;\">\n",
       "      <th><\/th>\n",
       "      <th><\/th>\n",
       "      <th>Average Consumption<\/th>\n",
       "    <\/tr>\n",
       "    <tr>\n",
       "      <th>Country<\/th>\n",
       "      <th>Drug Name<\/th>\n",
       "      <th><\/th>\n",
       "    <\/tr>\n",
       "  <\/thead>\n",
       "  <tbody>\n",
       "    <tr>\n",
       "      <th rowspan=\"4\" valign=\"top\">Afghanistan<\/th>\n",
       "      <th>RAPAFLO<\/th>\n",
       "      <td>37.525<\/td>\n",
       "    <\/tr>\n",
       "    <tr>\n",
       "      <th>Rimmel London<\/th>\n",
       "      <td>76.228<\/td>\n",
       "    <\/tr>\n",
       "    <tr>\n",
       "      <th>Simvastatin<\/th>\n",
       "      <td>22.664<\/td>\n",
       "    <\/tr>\n",
       "    <tr>\n",
       "      <th>Trimethobenzamide Hydrochloride<\/th>\n",
       "      <td>14.135<\/td>\n",
       "    <\/tr>\n",
       "    <tr>\n",
       "      <th>Albania<\/th>\n",
       "      <th>ANTIBACTERIAL WIPES Fresh Aloe<\/th>\n",
       "      <td>71.873<\/td>\n",
       "    <\/tr>\n",
       "    <tr>\n",
       "      <th>...<\/th>\n",
       "      <th>...<\/th>\n",
       "      <td>...<\/td>\n",
       "    <\/tr>\n",
       "    <tr>\n",
       "      <th>Zambia<\/th>\n",
       "      <th>equate Fiber Therapy Original Texture Unflavored<\/th>\n",
       "      <td>46.179<\/td>\n",
       "    <\/tr>\n",
       "    <tr>\n",
       "      <th rowspan=\"4\" valign=\"top\">Zimbabwe<\/th>\n",
       "      <th>ATORVASTATIN CALCIUM<\/th>\n",
       "      <td>69.949<\/td>\n",
       "    <\/tr>\n",
       "    <tr>\n",
       "      <th>Fluconazole<\/th>\n",
       "      <td>21.564<\/td>\n",
       "    <\/tr>\n",
       "    <tr>\n",
       "      <th>RHINOCORT AQUA<\/th>\n",
       "      <td>22.809<\/td>\n",
       "    <\/tr>\n",
       "    <tr>\n",
       "      <th>Risperidone<\/th>\n",
       "      <td>38.047<\/td>\n",
       "    <\/tr>\n",
       "  <\/tbody>\n",
       "<\/table>\n",
       "<p>996 rows × 1 columns<\/p>\n",
       "<\/div>"
      ]
     },
     "metadata":{
      
     },
     "output_type":"display_data"
    }
   ],
   "metadata":{
    "datalore":{
     "node_id":"kixNVnE9SwcoKsg6LXF1wl",
     "type":"CODE",
     "hide_input_from_viewers":false,
     "hide_output_from_viewers":false
    }
   }
  },
  {
   "cell_type":"code",
   "source":[
    "unique_countries = drug_data[\"Country\"].unique()\n",
    "unique_countries"
   ],
   "execution_count":70,
   "outputs":[
    {
     "data":{
      "text\/html":[
       "<pre>array(['China', 'Zimbabwe', 'Brazil', 'Philippines', 'Nepal',\n",
       "       'United States', 'Bulgaria', 'Indonesia', 'Norway',\n",
       "       'Czech Republic', 'Hong Kong', 'Poland', 'Ecuador', 'Russia',\n",
       "       'Afghanistan', 'Finland', 'Ukraine', 'Oman', 'France', 'Senegal',\n",
       "       'Vietnam', 'Guatemala', 'Cape Verde', 'Greece', 'Kenya', 'Serbia',\n",
       "       'Yemen', 'Portugal', 'Ireland', 'Colombia', 'South Korea',\n",
       "       'Democratic Republic of the Congo', 'Azerbaijan', 'Uzbekistan',\n",
       "       'Mexico', 'Estonia', 'Iceland', 'Armenia', 'Nigeria', 'Tunisia',\n",
       "       'Pakistan', 'Thailand', 'Chile', 'Sweden', 'Israel', 'Peru',\n",
       "       'United Kingdom', 'Slovenia', 'Canada', 'Japan', 'Venezuela',\n",
       "       'South Africa', 'Mongolia', 'Costa Rica', 'Namibia',\n",
       "       'Antigua and Barbuda', 'Sierra Leone', 'Dominica', 'Tanzania',\n",
       "       'Botswana', 'Cameroon', 'Croatia', 'Palau', 'Trinidad and Tobago',\n",
       "       'Argentina', 'Netherlands', 'Iran', 'Malaysia', 'Italy', 'Uganda',\n",
       "       'Latvia', 'Panama', 'Jamaica', 'Bangladesh', 'Albania', 'Lesotho',\n",
       "       'Moldova', 'Kosovo', 'Cuba', 'Germany', 'Guinea', 'Bolivia',\n",
       "       'Tajikistan', 'Gabon', 'Honduras', 'Morocco', 'Mali',\n",
       "       'Central African Republic', 'Myanmar', 'Madagascar', 'Sudan',\n",
       "       'Kazakhstan', 'Martinique', 'Zambia', 'Comoros', 'Spain',\n",
       "       'Georgia', 'Palestinian Territory', 'Bosnia and Herzegovina',\n",
       "       'Nicaragua', 'Barbados', 'Lebanon', 'Luxembourg', 'New Zealand',\n",
       "       'Ethiopia', 'Chad', 'Lithuania', 'Mauritania', 'Egypt',\n",
       "       'Montenegro', 'Macedonia', 'Saudi Arabia', 'Uruguay',\n",
       "       'El Salvador', 'Syria', 'Niger', 'Hungary', 'Cambodia',\n",
       "       'Australia'], dtype=object)<\/pre>"
      ]
     },
     "metadata":{
      
     },
     "output_type":"display_data"
    }
   ],
   "metadata":{
    "datalore":{
     "node_id":"n6I9UuKDCpcPc7yKMjkWpa",
     "type":"CODE",
     "hide_input_from_viewers":false,
     "hide_output_from_viewers":false
    }
   }
  },
  {
   "cell_type":"code",
   "source":[
    "df_list = []\n",
    "for x, i in enumerate(unique_countries):\n",
    "    state = drug_data[drug_data[\"Country\"]==i]\n",
    "    df_list.append((state))\n",
    "df_list[1]"
   ],
   "execution_count":81,
   "outputs":[
    {
     "data":{
      "text\/html":[
       "<div>\n",
       "<style scoped>\n",
       "    .dataframe tbody tr th:only-of-type {\n",
       "        vertical-align: middle;\n",
       "    }\n",
       "\n",
       "    .dataframe tbody tr th {\n",
       "        vertical-align: top;\n",
       "    }\n",
       "\n",
       "    .dataframe thead th {\n",
       "        text-align: right;\n",
       "    }\n",
       "<\/style>\n",
       "<table border=\"1\" class=\"dataframe\">\n",
       "  <thead>\n",
       "    <tr style=\"text-align: right;\">\n",
       "      <th><\/th>\n",
       "      <th>Drug Name<\/th>\n",
       "      <th>Country<\/th>\n",
       "      <th>Average Consumption<\/th>\n",
       "    <\/tr>\n",
       "  <\/thead>\n",
       "  <tbody>\n",
       "    <tr>\n",
       "      <th>1<\/th>\n",
       "      <td>Fluconazole<\/td>\n",
       "      <td>Zimbabwe<\/td>\n",
       "      <td>21.564<\/td>\n",
       "    <\/tr>\n",
       "    <tr>\n",
       "      <th>393<\/th>\n",
       "      <td>RHINOCORT AQUA<\/td>\n",
       "      <td>Zimbabwe<\/td>\n",
       "      <td>22.809<\/td>\n",
       "    <\/tr>\n",
       "    <tr>\n",
       "      <th>521<\/th>\n",
       "      <td>ATORVASTATIN CALCIUM<\/td>\n",
       "      <td>Zimbabwe<\/td>\n",
       "      <td>69.949<\/td>\n",
       "    <\/tr>\n",
       "    <tr>\n",
       "      <th>662<\/th>\n",
       "      <td>Risperidone<\/td>\n",
       "      <td>Zimbabwe<\/td>\n",
       "      <td>38.047<\/td>\n",
       "    <\/tr>\n",
       "  <\/tbody>\n",
       "<\/table>\n",
       "<\/div>"
      ]
     },
     "metadata":{
      
     },
     "output_type":"display_data"
    }
   ],
   "metadata":{
    "datalore":{
     "node_id":"BXtBUqiDVZmy1eEWH7Vk91",
     "type":"CODE",
     "hide_input_from_viewers":false,
     "hide_output_from_viewers":false
    }
   }
  },
  {
   "cell_type":"code",
   "source":[
    "drug_data_country = drug_data.groupby(['Country', 'Drug Name'])['Average Consumption '].max()"
   ],
   "execution_count":86,
   "outputs":[
    
   ],
   "metadata":{
    "datalore":{
     "node_id":"DdLDQrPIuu4oXGsZKy4IyY",
     "type":"CODE",
     "hide_input_from_viewers":false,
     "hide_output_from_viewers":false
    }
   }
  },
  {
   "cell_type":"code",
   "source":[
    "mock_data = mock_data.reset_index()"
   ],
   "execution_count":83,
   "outputs":[
    
   ],
   "metadata":{
    "datalore":{
     "node_id":"bgfPhJmFdyeTHvkjbhs12R",
     "type":"CODE",
     "hide_input_from_viewers":false,
     "hide_output_from_viewers":false
    }
   }
  },
  {
   "cell_type":"code",
   "source":[
    "mock_data[mock_data['Average Consumption '] == mock_data['Average Consumption '].max()]"
   ],
   "execution_count":null,
   "outputs":[
    
   ],
   "metadata":{
    "datalore":{
     "node_id":"Mlg0bdPaKuzW877jpGzyaG",
     "type":"CODE",
     "hide_input_from_viewers":false,
     "hide_output_from_viewers":false
    }
   }
  },
  {
   "cell_type":"code",
   "source":[
    "drug_list = []countries = (drug_df[\"Country\"].unique())max_list = []"
   ],
   "execution_count":94,
   "outputs":[
    {
     "ename":"SyntaxError",
     "evalue":"SyntaxError: invalid character in identifier",
     "traceback":[
      "\u001b[0;31m---------------------------------------------------------------------------",
      "Traceback (most recent call last)",
      "SyntaxError: invalid character in identifier"
     ],
     "output_type":"error"
    }
   ],
   "metadata":{
    "datalore":{
     "node_id":"DUm6me8XyPmyuKAmRxfHx1",
     "type":"CODE",
     "hide_input_from_viewers":false,
     "hide_output_from_viewers":false
    }
   }
  },
  {
   "cell_type":"code",
   "source":[
    
   ],
   "execution_count":null,
   "outputs":[
    
   ],
   "metadata":{
    "datalore":{
     "node_id":"Cv4oc4CFqXXo80FhQftrBB",
     "type":"CODE",
     "hide_input_from_viewers":false,
     "hide_output_from_viewers":false
    }
   }
  }
 ],
 "metadata":{
  "kernelspec":{
   "display_name":"Python",
   "language":"python",
   "name":"python"
  },
  "datalore":{
   "version":1,
   "computation_mode":"JUPYTER",
   "package_manager":"pip",
   "base_environment":"default",
   "packages":[
    
   ]
  }
 },
 "nbformat":4,
 "nbformat_minor":4
}